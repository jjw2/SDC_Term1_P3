{
 "cells": [
  {
   "cell_type": "code",
   "execution_count": 22,
   "metadata": {},
   "outputs": [
    {
     "name": "stdout",
     "output_type": "stream",
     "text": [
      "Number of images:  7494\n"
     ]
    },
    {
     "data": {
      "text/plain": [
       "<function matplotlib.pyplot.show(*args, **kw)>"
      ]
     },
     "execution_count": 22,
     "metadata": {},
     "output_type": "execute_result"
    },
    {
     "data": {
      "image/png": "[encoded data removed]",
      "text/plain": [
       "<Figure size 432x288 with 1 Axes>"
      ]
     },
     "metadata": {},
     "output_type": "display_data"
    }
   ],
   "source": [
    "import csv\n",
    "import cv2\n",
    "import numpy as np\n",
    "import matplotlib.pyplot as plt\n",
    "\n",
    "images = []\n",
    "measurements = []\n",
    "\n",
    "# Select which datasets to use for training\n",
    "# Thought about making this automatic, but wanted ability to select individual datasets\n",
    "datasets = ['Train4']#, 'Train2', 'Train4', 'Train5']\n",
    "\n",
    "\n",
    "# Loop thorugh selected datasets\n",
    "for dataset in datasets:\n",
    "    lines = []\n",
    "    with open('data/' + dataset + '_log.csv') as csvfile:\n",
    "        reader = csv.reader(csvfile)\n",
    "        for line in reader:\n",
    "            lines.append(line)\n",
    "\n",
    "    # Center, Left, Right\n",
    "    steer_correct = [0, 0.04, -0.04]\n",
    "    for line in lines:\n",
    "        for i in range(3): #center, left, right\n",
    "            sourcepath = line[i]\n",
    "            filename = sourcepath.split('/')[-1]\n",
    "            currentpath = 'data/' + dataset + '/' + filename\n",
    "            image = cv2.imread(currentpath)\n",
    "            image = cv2.cvtColor(image, cv2.COLOR_BGR2YUV) # Suggested by nvidia\n",
    "            images.append(image)\n",
    "            images.append(cv2.flip(image,1)) #Flip image\n",
    "            measurement = float(line[3]) + steer_correct[i]\n",
    "            measurements.append(measurement)\n",
    "            measurements.append(-measurement)\n",
    "            \n",
    "X_train_raw = np.array(images)\n",
    "y_train_raw = np.array(measurements)\n",
    "\n",
    "print(\"Number of images: \", len(y_train_raw))\n",
    "\n",
    "plt.figure()\n",
    "plt.hist(y_train_raw, bins=21, range=(-0.5, 0.5))\n",
    "plt.show"
   ]
  },
  {
   "cell_type": "code",
   "execution_count": 24,
   "metadata": {},
   "outputs": [
    {
     "name": "stdout",
     "output_type": "stream",
     "text": [
      "(1310, 160, 320, 3)\n",
      "(437, 160, 320, 3)\n",
      "(7494, 160, 320, 3)\n",
      "(6621, 160, 320, 3)\n"
     ]
    },
    {
     "data": {
      "text/plain": [
       "<function matplotlib.pyplot.show(*args, **kw)>"
      ]
     },
     "execution_count": 24,
     "metadata": {},
     "output_type": "execute_result"
    },
    {
     "data": {
      "image/png": "[encoded data removed]",
      "text/plain": [
       "<Figure size 432x288 with 1 Axes>"
      ]
     },
     "metadata": {},
     "output_type": "display_data"
    }
   ],
   "source": [
    "# Filter data - need to move this before data/steering augmentation...\n",
    "steer_angle_thresh = 0.05\n",
    "X_train = X_train_raw[(y_train_raw <= -steer_angle_thresh) | (y_train_raw >= steer_angle_thresh)]\n",
    "y_train = y_train_raw[(y_train_raw <= -steer_angle_thresh) | (y_train_raw >= steer_angle_thresh)]\n",
    "\n",
    "X_train_straight = X_train_raw[(y_train_raw > -steer_angle_thresh) & (y_train_raw < steer_angle_thresh)]\n",
    "y_train_straight = y_train_raw[(y_train_raw > -steer_angle_thresh) & (y_train_raw < steer_angle_thresh)]\n",
    "\n",
    "print (X_train_straight.shape)\n",
    "# Grab 33% of straight data\n",
    "X_train_straight = X_train_straight[np.arange(0, len(y_train_straight)-1, 3)]\n",
    "y_train_straight = y_train_straight[np.arange(0, len(y_train_straight)-1, 3)]\n",
    "\n",
    "print (X_train_straight.shape)\n",
    "\n",
    "X_train = np.append(X_train, X_train_straight, axis=0)\n",
    "y_train = np.append(y_train, y_train_straight, axis=0)\n",
    "\n",
    "print(X_train_raw.shape)\n",
    "print(X_train.shape)\n",
    "\n",
    "plt.figure()\n",
    "plt.hist(y_train, bins=21, range=(-0.5, 0.5))\n",
    "plt.show\n"
   ]
  },
  {
   "cell_type": "code",
   "execution_count": 25,
   "metadata": {},
   "outputs": [
    {
     "name": "stdout",
     "output_type": "stream",
     "text": [
      "Train on 5296 samples, validate on 1325 samples\n",
      "Epoch 1/3\n",
      "1536/5296 [=======>......................] - ETA: 91s - loss: 0.2959"
     ]
    },
    {
     "name": "stderr",
     "output_type": "stream",
     "text": [
      "\n",
      "KeyboardInterrupt\n",
      "\n"
     ]
    }
   ],
   "source": [
    "## Set Up NNs ##\n",
    "from keras.models import Sequential\n",
    "from keras.layers import Flatten, Dense, Lambda, Cropping2D, Convolution2D, MaxPooling2D, Dropout\n",
    "\n",
    "\n",
    "dropout = [0.0, 0.3, 0.3, 0.5]\n",
    "\n",
    "\n",
    "def LeNet1():\n",
    "\tmodel = Sequential()\n",
    "\tmodel.add(Cropping2D(cropping=((50,20), (0,0)), input_shape=(160, 320, 3)))\n",
    "\tmodel.add(Lambda(lambda x:(x/255.0)-0.5))\n",
    "\tmodel.add(Convolution2D(10, 5, 5, activation='relu'))\n",
    "\tmodel.add(MaxPooling2D())\n",
    "\tmodel.add(Convolution2D(20, 5, 5, activation='relu'))\n",
    "\tmodel.add(MaxPooling2D())\n",
    "\tmodel.add(Flatten())\n",
    "\tmodel.add(Dense(120))\n",
    "\tmodel.add(Dense(84))\n",
    "\tmodel.add(Dense(1))\n",
    "\n",
    "\tmodel.compile(loss = 'mse', optimizer = 'adam')\n",
    "\tmodel.fit(X_train, y_train, validation_split=0.2, shuffle=True, nb_epoch=7, batch_size=128)\n",
    "\n",
    "\tmodel.save('model.h5')\n",
    "\n",
    "def nvidia():\n",
    "\n",
    "\tmodel = Sequential()\n",
    "\tmodel.add(Cropping2D(cropping=((50,20), (0,0)), input_shape=(160, 320, 3)))\n",
    "\tmodel.add(Lambda(lambda x:(x/255.0)-0.5))\n",
    "\tmodel.add(Convolution2D(24, 5, 5, subsample=(2,2), activation='relu'))#78x158\n",
    "\tmodel.add(Dropout(dropout[1]))\n",
    "\tmodel.add(Convolution2D(36, 5, 5, subsample=(2,2), activation='relu'))#37x77\n",
    "\tmodel.add(Dropout(dropout[1]))\n",
    "\tmodel.add(Convolution2D(48, 5, 5, subsample=(2,2), activation='relu'))#16x36\n",
    "\tmodel.add(Dropout(dropout[1]))\n",
    "\tmodel.add(Convolution2D(64, 5, 5, subsample=(2,2), activation='relu'))#2x17\n",
    "\tmodel.add(Dropout(dropout[1]))\n",
    "\t#model.add(Convolution2D(64, 5, 5, subsample=(2,1), activation='relu'))#1x12\n",
    "\tmodel.add(Flatten())\n",
    "\tmodel.add(Dense(1000))\n",
    "\tmodel.add(Dropout(dropout[3]))\n",
    "\tmodel.add(Dense(100))\n",
    "\tmodel.add(Dense(50))\n",
    "\tmodel.add(Dense(1))\n",
    "\n",
    "\tmodel.compile(loss = 'mse', optimizer = 'adam')\n",
    "\tmodel.fit(X_train, y_train, validation_split=0.2, shuffle=True, nb_epoch=3, batch_size=128)\n",
    "\n",
    "\tmodel.save('model.h5')\n",
    "\n",
    "\n",
    "\n",
    "def nvidia2(): # Same sizes and convoltuions as NVIDIA network\n",
    "\n",
    "\tmodel = Sequential()\n",
    "\tmodel.add(Cropping2D(cropping=((50,20), (0,0)), input_shape=(160, 320, 3)))\n",
    "\t# Crop to a 3 to 1 aspect ratio and then convert to 66x200\n",
    "\tmodel.add(Lambda(lambda x:(x/255.0)-0.5))\n",
    "\tmodel.add(Convolution2D(24, 5, 5, subsample=(2,2), activation='relu'))#31x98\n",
    "\tmodel.add(Dropout(dropout[1]))\n",
    "\tmodel.add(Convolution2D(36, 5, 5, subsample=(2,2), activation='relu'))#14X47\n",
    "\tmodel.add(Dropout(dropout[1]))\n",
    "\tmodel.add(Convolution2D(48, 5, 5, subsample=(2,2), activation='relu'))#5x22\n",
    "\tmodel.add(Dropout(dropout[1]))\n",
    "\tmodel.add(Convolution2D(64, 3, 3, subsample=(1,1), activation='relu'))#3x20\n",
    "\tmodel.add(Dropout(dropout[1]))\n",
    "\tmodel.add(Convolution2D(64, 3, 3, subsample=(1,1), activation='relu'))#1x18\n",
    "\tmodel.add(Flatten()) # May not need this\n",
    "\tmodel.add(Dense(1000))\n",
    "\tmodel.add(Dropout(dropout[3]))\n",
    "\tmodel.add(Dense(100))\n",
    "\tmodel.add(Dense(50))\n",
    "\tmodel.add(Dense(1))\n",
    "\n",
    "\tmodel.compile(loss = 'mse', optimizer = 'adam')\n",
    "\tmodel.fit(X_train, y_train, validation_split=0.2, shuffle=True, nb_epoch=3, batch_size=256)\n",
    "\n",
    "\tmodel.save('model.h5')\n",
    "\n",
    "\n",
    "nvidia()"
   ]
  },
  {
   "cell_type": "code",
   "execution_count": null,
   "metadata": {},
   "outputs": [],
   "source": []
  }
 ],
 "metadata": {
  "kernelspec": {
   "display_name": "Python 3",
   "language": "python",
   "name": "python3"
  },
  "language_info": {
   "codemirror_mode": {
    "name": "ipython",
    "version": 3
   },
   "file_extension": ".py",
   "mimetype": "text/x-python",
   "name": "python",
   "nbconvert_exporter": "python",
   "pygments_lexer": "ipython3",
   "version": "3.5.2"
  },
  "widgets": {
   "state": {},
   "version": "1.1.2"
  }
 },
 "nbformat": 4,
 "nbformat_minor": 2
}
